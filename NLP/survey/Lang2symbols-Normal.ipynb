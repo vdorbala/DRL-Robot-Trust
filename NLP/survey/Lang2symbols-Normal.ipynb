{
 "cells": [
  {
   "cell_type": "code",
   "execution_count": 1,
   "metadata": {
    "colab": {},
    "colab_type": "code",
    "id": "qDt_GbLpPamE"
   },
   "outputs": [],
   "source": [
    "from __future__ import unicode_literals, print_function, division\n",
    "from io import open\n",
    "import unicodedata\n",
    "import string\n",
    "import re\n",
    "import random\n",
    "\n",
    "import torch\n",
    "import torch.nn as nn\n",
    "from torch import optim\n",
    "import torch.nn.functional as F\n",
    "\n"
   ]
  },
  {
   "cell_type": "code",
   "execution_count": 2,
   "metadata": {
    "colab": {},
    "colab_type": "code",
    "id": "xOT7aGplPamY"
   },
   "outputs": [],
   "source": [
    "SOS_token = 0\n",
    "EOS_token = 1\n",
    "\n",
    "\n",
    "class Lang:\n",
    "    def __init__(self, name):\n",
    "        self.name = name\n",
    "        self.word2index = {}\n",
    "        self.word2count = {}\n",
    "        self.index2word = {0: \"SOS\", 1: \"EOS\"}\n",
    "        self.n_words = 2  # Count SOS and EOS\n",
    "\n",
    "    def addSentence(self, sentence):\n",
    "        for word in sentence.split(' '):\n",
    "            self.addWord(word)\n",
    "\n",
    "    def addWord(self, word):\n",
    "        if word not in self.word2index:\n",
    "            self.word2index[word] = self.n_words\n",
    "            self.word2count[word] = 1\n",
    "            self.index2word[self.n_words] = word\n",
    "            self.n_words += 1\n",
    "        else:\n",
    "            self.word2count[word] += 1"
   ]
  },
  {
   "cell_type": "code",
   "execution_count": 3,
   "metadata": {
    "colab": {},
    "colab_type": "code",
    "id": "zU4w6obyPamj"
   },
   "outputs": [],
   "source": [
    "# Turn a Unicode string to plain ASCII, thanks to\n",
    "# https://stackoverflow.com/a/518232/2809427\n",
    "def unicodeToAscii(s):\n",
    "    return ''.join(\n",
    "        c for c in unicodedata.normalize('NFD', s)\n",
    "        if unicodedata.category(c) != 'Mn'\n",
    "    )\n",
    "\n",
    "# Lowercase, trim, and remove non-letter characters\n",
    "\n",
    "\n",
    "def normalizeString(s):\n",
    "    s = unicodeToAscii(s.lower().strip())\n",
    "    s = re.sub(r\"([.!?])\", r\" \\1\", s)\n",
    "    s = re.sub(r\"[^a-zA-Z.!?]+\", r\" \", s)\n",
    "    return s"
   ]
  },
  {
   "cell_type": "code",
   "execution_count": 4,
   "metadata": {
    "colab": {},
    "colab_type": "code",
    "id": "SKvIOoTvPamt"
   },
   "outputs": [],
   "source": [
    "def readLangs(lang1, lang2, reverse=False):\n",
    "    print(\"Reading lines...\")\n",
    "\n",
    "    # Read the file and split into lines\n",
    "    lines = open('final.tsv', encoding='utf-8').\\\n",
    "        read().strip().split('\\n')\n",
    "\n",
    "    # Split every line into pairs and normalize\n",
    "    pairs = [[normalizeString(s) for s in l.split('\\t')] for l in lines]\n",
    "    input_lang = Lang(lang1)\n",
    "    output_lang = Lang(lang2)\n",
    "\n",
    "    return input_lang, output_lang, pairs"
   ]
  },
  {
   "cell_type": "code",
   "execution_count": 5,
   "metadata": {
    "colab": {
     "base_uri": "https://localhost:8080/",
     "height": 381
    },
    "colab_type": "code",
    "id": "GBnV-AEZPanM",
    "outputId": "d7bf94b3-aa5f-4381-8190-97e630150916"
   },
   "outputs": [
    {
     "name": "stdout",
     "output_type": "stream",
     "text": [
      "Reading lines...\n",
      "Read 89 sentence pairs\n",
      "Counting words...\n",
      "Counted words:\n",
      "lang 132\n",
      "sym 5\n",
      "['go left and take first right . third room to your left is library .', 'left right straight straight']\n"
     ]
    }
   ],
   "source": [
    "def prepareData(lang1, lang2, reverse=False):\n",
    "    input_lang, output_lang, pairs = readLangs(lang1, lang2, reverse)\n",
    "#     pairs = filterPairs(pairs)\n",
    "    pairs=pairs[1:]\n",
    "    print(\"Read %s sentence pairs\" % len(pairs))\n",
    "    print(\"Counting words...\")\n",
    "    for pair in pairs:\n",
    "        input_lang.addSentence(pair[0])\n",
    "        output_lang.addSentence(pair[1])\n",
    "    print(\"Counted words:\")\n",
    "    print(input_lang.name, input_lang.n_words)\n",
    "    print(output_lang.name, output_lang.n_words)\n",
    "    return input_lang, output_lang, pairs\n",
    "\n",
    "\n",
    "input_lang, output_lang, pairs = prepareData('lang', 'sym', True)\n",
    "print(random.choice(pairs))"
   ]
  },
  {
   "cell_type": "code",
   "execution_count": 6,
   "metadata": {
    "colab": {},
    "colab_type": "code",
    "id": "KBE94gQAPanW"
   },
   "outputs": [],
   "source": [
    "class EncoderRNN(nn.Module):\n",
    "    def __init__(self, input_size, hidden_size):\n",
    "        super(EncoderRNN, self).__init__()\n",
    "        self.hidden_size = hidden_size\n",
    "\n",
    "        self.embedding = nn.Embedding(input_size, hidden_size)\n",
    "        self.gru = nn.GRU(hidden_size, hidden_size)\n",
    "\n",
    "    def forward(self, input, hidden):\n",
    "        embedded = self.embedding(input).view(1, 1, -1)\n",
    "        output = embedded\n",
    "        output, hidden = self.gru(output, hidden)\n",
    "        return output, hidden\n",
    "\n",
    "    def initHidden(self):\n",
    "        return torch.zeros(1, 1, self.hidden_size)"
   ]
  },
  {
   "cell_type": "code",
   "execution_count": 7,
   "metadata": {
    "colab": {},
    "colab_type": "code",
    "id": "f1WWrPuAPanf"
   },
   "outputs": [],
   "source": [
    "class DecoderRNN(nn.Module):\n",
    "    def __init__(self, hidden_size, output_size):\n",
    "        super(DecoderRNN, self).__init__()\n",
    "        self.hidden_size = hidden_size\n",
    "\n",
    "        self.embedding = nn.Embedding(output_size, hidden_size)\n",
    "        self.gru = nn.GRU(hidden_size, hidden_size)\n",
    "        self.out = nn.Linear(hidden_size, output_size)\n",
    "        self.softmax = nn.LogSoftmax(dim=1)\n",
    "\n",
    "    def forward(self, input, hidden):\n",
    "        output = self.embedding(input).view(1, 1, -1)\n",
    "        output = F.relu(output)\n",
    "        output, hidden = self.gru(output, hidden)\n",
    "        output = self.softmax(self.out(output[0]))\n",
    "        return output, hidden\n",
    "\n",
    "    def initHidden(self):\n",
    "        return torch.zeros(1, 1, self.hidden_size)"
   ]
  },
  {
   "cell_type": "code",
   "execution_count": 8,
   "metadata": {
    "colab": {},
    "colab_type": "code",
    "id": "3R5b6JRtPanq"
   },
   "outputs": [],
   "source": [
    "class AttnDecoderRNN(nn.Module):\n",
    "    def __init__(self, hidden_size, output_size, dropout_p=0.1, max_length=37):\n",
    "        super(AttnDecoderRNN, self).__init__()\n",
    "        self.hidden_size = hidden_size\n",
    "        self.output_size = output_size\n",
    "        self.dropout_p = dropout_p\n",
    "        self.max_length = max_length\n",
    "\n",
    "        self.embedding = nn.Embedding(self.output_size, self.hidden_size)\n",
    "        self.attn = nn.Linear(self.hidden_size * 2, self.max_length)\n",
    "        self.attn_combine = nn.Linear(self.hidden_size * 2, self.hidden_size)\n",
    "        self.dropout = nn.Dropout(self.dropout_p)\n",
    "        self.gru = nn.GRU(self.hidden_size, self.hidden_size)\n",
    "        self.out = nn.Linear(self.hidden_size, self.output_size)\n",
    "\n",
    "    def forward(self, input, hidden, encoder_outputs):\n",
    "        embedded = self.embedding(input).view(1, 1, -1)\n",
    "        embedded = self.dropout(embedded)\n",
    "\n",
    "        attn_weights = F.softmax(\n",
    "            self.attn(torch.cat((embedded[0], hidden[0]), 1)), dim=1)\n",
    "        attn_applied = torch.bmm(attn_weights.unsqueeze(0),\n",
    "                                 encoder_outputs.unsqueeze(0))\n",
    "\n",
    "        output = torch.cat((embedded[0], attn_applied[0]), 1)\n",
    "        output = self.attn_combine(output).unsqueeze(0)\n",
    "\n",
    "        output = F.relu(output)\n",
    "        output, hidden = self.gru(output, hidden)\n",
    "\n",
    "        output = F.log_softmax(self.out(output[0]), dim=1)\n",
    "        return output, hidden, attn_weights\n",
    "\n",
    "    def initHidden(self):\n",
    "        return torch.zeros(1, 1, self.hidden_size)"
   ]
  },
  {
   "cell_type": "code",
   "execution_count": 9,
   "metadata": {
    "colab": {},
    "colab_type": "code",
    "id": "vT-HW-4ePaoD"
   },
   "outputs": [],
   "source": [
    "def indexesFromSentence(lang, sentence):\n",
    "    return [lang.word2index[word] for word in sentence.split(' ')]\n",
    "\n",
    "\n",
    "def tensorFromSentence(lang, sentence):\n",
    "    indexes = indexesFromSentence(lang, sentence)\n",
    "    indexes.append(EOS_token)\n",
    "    return torch.tensor(indexes, dtype=torch.long).view(-1, 1)\n",
    "\n",
    "\n",
    "def tensorsFromPair(pair):\n",
    "    input_tensor = tensorFromSentence(input_lang, pair[0])\n",
    "    target_tensor = tensorFromSentence(output_lang, pair[1])\n",
    "    return (input_tensor, target_tensor)"
   ]
  },
  {
   "cell_type": "code",
   "execution_count": 10,
   "metadata": {},
   "outputs": [
    {
     "data": {
      "text/plain": [
       "(tensor([[ 2],\n",
       "         [ 3],\n",
       "         [ 4],\n",
       "         [ 5],\n",
       "         [ 6],\n",
       "         [ 7],\n",
       "         [ 4],\n",
       "         [ 8],\n",
       "         [ 9],\n",
       "         [10],\n",
       "         [ 2],\n",
       "         [11],\n",
       "         [ 1]]),\n",
       " tensor([[2],\n",
       "         [3],\n",
       "         [4],\n",
       "         [1]]))"
      ]
     },
     "execution_count": 10,
     "metadata": {},
     "output_type": "execute_result"
    }
   ],
   "source": [
    "tensorsFromPair(pairs[0])"
   ]
  },
  {
   "cell_type": "code",
   "execution_count": 11,
   "metadata": {
    "colab": {},
    "colab_type": "code",
    "id": "Gp6lX1lUPaoM"
   },
   "outputs": [],
   "source": [
    "teacher_forcing_ratio = 0.5\n",
    "\n",
    "\n",
    "def train(input_tensor, target_tensor, encoder, decoder, encoder_optimizer, decoder_optimizer, criterion, max_length=37):\n",
    "    encoder_hidden = encoder.initHidden()\n",
    "\n",
    "    encoder_optimizer.zero_grad()\n",
    "    decoder_optimizer.zero_grad()\n",
    "\n",
    "    input_length = input_tensor.size(0)\n",
    "    target_length = target_tensor.size(0)\n",
    "\n",
    "    encoder_outputs = torch.zeros(max_length, encoder.hidden_size)\n",
    "\n",
    "    loss = 0\n",
    "\n",
    "    for ei in range(input_length):\n",
    "        encoder_output, encoder_hidden = encoder(\n",
    "            input_tensor[ei], encoder_hidden)\n",
    "        encoder_outputs[ei] = encoder_output[0, 0]\n",
    "\n",
    "    decoder_input = torch.tensor([[SOS_token]])\n",
    "\n",
    "    decoder_hidden = encoder_hidden\n",
    "\n",
    "    use_teacher_forcing = True if random.random() < teacher_forcing_ratio else False\n",
    "\n",
    "    if use_teacher_forcing:\n",
    "        # Teacher forcing: Feed the target as the next input\n",
    "        for di in range(target_length):\n",
    "            decoder_output, decoder_hidden, decoder_attention = decoder(\n",
    "                decoder_input, decoder_hidden, encoder_outputs)\n",
    "            loss += criterion(decoder_output, target_tensor[di])\n",
    "            decoder_input = target_tensor[di]  # Teacher forcing\n",
    "\n",
    "    else:\n",
    "        # Without teacher forcing: use its own predictions as the next input\n",
    "        for di in range(target_length):\n",
    "            decoder_output, decoder_hidden, decoder_attention = decoder(\n",
    "                decoder_input, decoder_hidden, encoder_outputs)\n",
    "            topv, topi = decoder_output.topk(1)\n",
    "            decoder_input = topi.squeeze().detach()  # detach from history as input\n",
    "\n",
    "            loss += criterion(decoder_output, target_tensor[di])\n",
    "            if decoder_input.item() == EOS_token:\n",
    "                break\n",
    "\n",
    "    loss.backward()\n",
    "\n",
    "    encoder_optimizer.step()\n",
    "    decoder_optimizer.step()\n",
    "\n",
    "    return loss.item() / target_length"
   ]
  },
  {
   "cell_type": "code",
   "execution_count": 12,
   "metadata": {
    "colab": {},
    "colab_type": "code",
    "id": "v6RC9eP9PaoV"
   },
   "outputs": [],
   "source": [
    "import time\n",
    "import math\n",
    "\n",
    "\n",
    "def asMinutes(s):\n",
    "    m = math.floor(s / 60)\n",
    "    s -= m * 60\n",
    "    return '%dm %ds' % (m, s)\n",
    "\n",
    "\n",
    "def timeSince(since, percent):\n",
    "    now = time.time()\n",
    "    s = now - since\n",
    "    es = s / (percent)\n",
    "    rs = es - s\n",
    "    return '%s (- %s)' % (asMinutes(s), asMinutes(rs))"
   ]
  },
  {
   "cell_type": "code",
   "execution_count": 13,
   "metadata": {
    "colab": {},
    "colab_type": "code",
    "id": "O34LOqmyPaoc"
   },
   "outputs": [],
   "source": [
    "def trainIters(encoder, decoder, n_iters, print_every=1000, plot_every=100, learning_rate=0.01):\n",
    "    start = time.time()\n",
    "    plot_losses = []\n",
    "    print_loss_total = 0  # Reset every print_every\n",
    "    plot_loss_total = 0  # Reset every plot_every\n",
    "\n",
    "    encoder_optimizer = optim.SGD(encoder.parameters(), lr=learning_rate)\n",
    "    decoder_optimizer = optim.SGD(decoder.parameters(), lr=learning_rate)\n",
    "    training_pairs = [tensorsFromPair(random.choice(pairs))\n",
    "                      for i in range(n_iters)]\n",
    "    criterion = nn.NLLLoss()\n",
    "\n",
    "    for iter in range(1, n_iters + 1):\n",
    "        training_pair = training_pairs[iter - 1]\n",
    "        input_tensor = training_pair[0]\n",
    "        target_tensor = training_pair[1]\n",
    "\n",
    "        loss = train(input_tensor, target_tensor, encoder,\n",
    "                     decoder, encoder_optimizer, decoder_optimizer, criterion)\n",
    "        print_loss_total += loss\n",
    "        plot_loss_total += loss\n",
    "\n",
    "        if iter % print_every == 0:\n",
    "            print_loss_avg = print_loss_total / print_every\n",
    "            print_loss_total = 0\n",
    "            print('%s (%d %d%%) %.4f' % (timeSince(start, iter / n_iters),\n",
    "                                         iter, iter / n_iters * 100, print_loss_avg))\n",
    "\n",
    "        if iter % plot_every == 0:\n",
    "            plot_loss_avg = plot_loss_total / plot_every\n",
    "            plot_losses.append(plot_loss_avg)\n",
    "            plot_loss_total = 0\n",
    "\n",
    "    showPlot(plot_losses)"
   ]
  },
  {
   "cell_type": "code",
   "execution_count": 14,
   "metadata": {
    "colab": {},
    "colab_type": "code",
    "id": "NNtVbXivPaok"
   },
   "outputs": [],
   "source": [
    "import matplotlib.pyplot as plt\n",
    "plt.switch_backend('agg')\n",
    "import matplotlib.ticker as ticker\n",
    "import numpy as np\n",
    "\n",
    "\n",
    "def showPlot(points):\n",
    "    plt.figure()\n",
    "    fig, ax = plt.subplots()\n",
    "    # this locator puts ticks at regular intervals\n",
    "    loc = ticker.MultipleLocator(base=0.2)\n",
    "    ax.yaxis.set_major_locator(loc)\n",
    "    plt.plot(points)"
   ]
  },
  {
   "cell_type": "markdown",
   "metadata": {
    "colab_type": "text",
    "id": "42nTGEb6Paor"
   },
   "source": [
    "Evaluation\n",
    "==========\n",
    "\n",
    "Evaluation is mostly the same as training, but there are no targets so\n",
    "we simply feed the decoder's predictions back to itself for each step.\n",
    "Every time it predicts a word we add it to the output string, and if it\n",
    "predicts the EOS token we stop there. We also store the decoder's\n",
    "attention outputs for display later.\n",
    "\n",
    "\n"
   ]
  },
  {
   "cell_type": "code",
   "execution_count": 15,
   "metadata": {
    "colab": {},
    "colab_type": "code",
    "id": "AKuYs_jsPaor"
   },
   "outputs": [],
   "source": [
    "def evaluate(encoder, decoder, sentence, max_length=37):\n",
    "    with torch.no_grad():\n",
    "        input_tensor = tensorFromSentence(input_lang, sentence)\n",
    "        input_length = input_tensor.size()[0]\n",
    "        encoder_hidden = encoder.initHidden()\n",
    "\n",
    "        encoder_outputs = torch.zeros(max_length, encoder.hidden_size)\n",
    "\n",
    "        for ei in range(input_length):\n",
    "            encoder_output, encoder_hidden = encoder(input_tensor[ei],\n",
    "                                                     encoder_hidden)\n",
    "            encoder_outputs[ei] += encoder_output[0, 0]\n",
    "\n",
    "        decoder_input = torch.tensor([[SOS_token]])  # SOS\n",
    "\n",
    "        decoder_hidden = encoder_hidden\n",
    "\n",
    "        decoded_words = []\n",
    "        decoder_attentions = torch.zeros(max_length, max_length)\n",
    "\n",
    "        for di in range(max_length):\n",
    "            decoder_output, decoder_hidden, decoder_attention = decoder(\n",
    "                decoder_input, decoder_hidden, encoder_outputs)\n",
    "            decoder_attentions[di] = decoder_attention.data\n",
    "            topv, topi = decoder_output.data.topk(1)\n",
    "            if topi.item() == EOS_token:\n",
    "                decoded_words.append('<EOS>')\n",
    "                break\n",
    "            else:\n",
    "                decoded_words.append(output_lang.index2word[topi.item()])\n",
    "\n",
    "            decoder_input = topi.squeeze().detach()\n",
    "\n",
    "        return decoded_words, decoder_attentions[:di + 1]"
   ]
  },
  {
   "cell_type": "markdown",
   "metadata": {
    "colab_type": "text",
    "id": "U6hcwEAAPaov"
   },
   "source": [
    "We can evaluate random sentences from the training set and print out the\n",
    "input, target, and output to make some subjective quality judgements:\n",
    "\n",
    "\n"
   ]
  },
  {
   "cell_type": "code",
   "execution_count": 16,
   "metadata": {
    "colab": {},
    "colab_type": "code",
    "id": "m-RBCgdhPaoz"
   },
   "outputs": [],
   "source": [
    "def evaluateRandomly(encoder, decoder, n=37):\n",
    "    for i in range(n):\n",
    "        pair = random.choice(pairs)\n",
    "        print('>', pair[0])\n",
    "        print('=', pair[1])\n",
    "        output_words, attentions = evaluate(encoder, decoder, pair[0])\n",
    "        output_sentence = ' '.join(output_words)\n",
    "        print('<', output_sentence)\n",
    "        print('')"
   ]
  },
  {
   "cell_type": "markdown",
   "metadata": {
    "colab_type": "text",
    "id": "MPQ9uI3GPao6"
   },
   "source": [
    "Training and Evaluating\n",
    "=======================\n",
    "\n",
    "With all these helper functions in place (it looks like extra work, but\n",
    "it makes it easier to run multiple experiments) we can actually\n",
    "initialize a network and start training.\n",
    "\n",
    "Remember that the input sentences were heavily filtered. For this small\n",
    "dataset we can use relatively small networks of 256 hidden nodes and a\n",
    "single GRU layer. After about 40 minutes on a MacBook CPU we'll get some\n",
    "reasonable results.\n",
    "\n",
    ".. Note::\n",
    "   If you run this notebook you can train, interrupt the kernel,\n",
    "   evaluate, and continue training later. Comment out the lines where the\n",
    "   encoder and decoder are initialized and run ``trainIters`` again.\n",
    "\n",
    "\n"
   ]
  },
  {
   "cell_type": "code",
   "execution_count": 32,
   "metadata": {
    "colab": {},
    "colab_type": "code",
    "id": "Qg5GHWXGPao6"
   },
   "outputs": [
    {
     "name": "stdout",
     "output_type": "stream",
     "text": [
      "0m 27s (- 6m 1s) (500 7%) 1.2077\n",
      "1m 3s (- 6m 19s) (1000 14%) 1.1291\n",
      "1m 29s (- 5m 29s) (1500 21%) 0.9685\n",
      "1m 56s (- 4m 50s) (2000 28%) 0.9109\n",
      "2m 24s (- 4m 20s) (2500 35%) 0.7089\n",
      "2m 55s (- 3m 54s) (3000 42%) 0.5138\n",
      "3m 24s (- 3m 24s) (3500 50%) 0.3477\n",
      "3m 52s (- 2m 54s) (4000 57%) 0.2129\n",
      "4m 20s (- 2m 24s) (4500 64%) 0.1104\n",
      "4m 47s (- 1m 55s) (5000 71%) 0.0543\n",
      "5m 15s (- 1m 26s) (5500 78%) 0.0562\n",
      "5m 43s (- 0m 57s) (6000 85%) 0.0427\n",
      "6m 9s (- 0m 28s) (6500 92%) 0.0180\n",
      "6m 35s (- 0m 0s) (7000 100%) 0.0267\n"
     ]
    }
   ],
   "source": [
    "hidden_size = 256\n",
    "encoder1 = EncoderRNN(input_lang.n_words, hidden_size)\n",
    "attn_decoder1 = AttnDecoderRNN(hidden_size, output_lang.n_words, dropout_p=0.1)\n",
    "\n",
    "trainIters(encoder1, attn_decoder1,7000, print_every=500)"
   ]
  },
  {
   "cell_type": "code",
   "execution_count": 33,
   "metadata": {
    "colab": {},
    "colab_type": "code",
    "id": "7lH15hdLPapA"
   },
   "outputs": [
    {
     "name": "stdout",
     "output_type": "stream",
     "text": [
      "> proceed along the hallway till the end and take a right and stop when the washroom is the building on your right .\n",
      "= straight right\n",
      "< straight right <EOS>\n",
      "\n",
      "> go straight take the second left turn right at the end of the corridor take the first right .\n",
      "= straight left right right\n",
      "< straight left right right <EOS>\n",
      "\n",
      "> take a left turn about lab b and head to the end of the hallway and take a right . lab a s entrance is the first door on your right .\n",
      "= left straight left right\n",
      "< left straight left right <EOS>\n",
      "\n",
      "> go straight take a right about lab a then turn left at the end of the corridor and continue straight and stop in front of the library .\n",
      "= straight right left straight\n",
      "< straight right left straight <EOS>\n",
      "\n",
      "> go straight take the second left and go till the end of the corridor . then take right take another right and stop next to the washroom .\n",
      "= straight left right right\n",
      "< straight left right right <EOS>\n",
      "\n",
      "> go straight take the third left and go till the end of the corridor . take a right and stop in front of the washroom entrance .\n",
      "= straight straight left right\n",
      "< straight straight left right <EOS>\n",
      "\n",
      "> rotate degrees in clockwise direction and go straight . take the second right and reach the end of the hall . take a right and stop near the door for lab a .\n",
      "= right straight left right\n",
      "< right straight left right <EOS>\n",
      "\n",
      "> take the second right from cafeteria and take the immediate left and again take the first left to reach lab b\n",
      "= straight left right left\n",
      "< straight left right left <EOS>\n",
      "\n",
      "> step out of library take the first left and then take another left near the stationary and you will be near the kitchen .\n",
      "= right right left straight\n",
      "< right right left straight <EOS>\n",
      "\n",
      "> take the first left and then walk until you are between the two rooms at the end of the hallway\n",
      "= left straight\n",
      "< left straight <EOS>\n",
      "\n",
      "> go straight and take the first right then take a left about the stationary and then the first right you ll reach lab b .\n",
      "= right left right\n",
      "< right left right <EOS>\n",
      "\n",
      "> take second right . then take first left .take first left .stop somewhere in mid way\n",
      "= straight left right left\n",
      "< straight left right left <EOS>\n",
      "\n",
      "> get out of lab b and take a left then take the first left and continue straight till the end of the corridor and take a right . lab a should be right there .\n",
      "= left straight left right\n",
      "< left straight left right <EOS>\n",
      "\n",
      "> proceed along the hallway and take the first available right and then proceed to take the first available left . stop near the washroom the building .\n",
      "= right left\n",
      "< right left <EOS>\n",
      "\n",
      "> turn left now and take the first right near the kitchen . proceed straight and turn right near lab a\n",
      "= left straight left right\n",
      "< left straight left right <EOS>\n",
      "\n",
      "> take the last before left and wash room entrance will be to your right\n",
      "= straight right left left\n",
      "< straight right left left <EOS>\n",
      "\n",
      "> take a right at the start location and head down the hallway and take a left after crossing lab b .\n",
      "= right left\n",
      "< right left <EOS>\n",
      "\n",
      "> turn left and take the second right . take a left and the door is to the left\n",
      "= left left straight right\n",
      "< left left straight right <EOS>\n",
      "\n",
      "> take the third left and go to the end of the corridor .take right and stop in front of washroom .\n",
      "= straight right left left\n",
      "< straight right left left <EOS>\n",
      "\n",
      "> proceed along the hallway and take the first available right and then proceed to take the first available left . stop near the washroom the building .\n",
      "= right left\n",
      "< right left <EOS>\n",
      "\n",
      "> turn to ur left and keep going until the first right take the right and keep going straight till the end of hallway\n",
      "= left right straight straight\n",
      "< left right straight straight <EOS>\n",
      "\n",
      "> step out of library take the first left and then take another left near the stationary and you will be near the kitchen .\n",
      "= right right left straight\n",
      "< right right left straight <EOS>\n",
      "\n",
      "> go left take left after lab a end of hall way take right . washroom will be to your right .\n",
      "= right left straight left\n",
      "< right left straight left <EOS>\n",
      "\n",
      "> continue straight and take the third left at lab b move straight towards the end of corridor and turn right to reach the washroom\n",
      "= straight straight left right\n",
      "< straight straight left right <EOS>\n",
      "\n",
      "> keep going straight and take the third left and then first right to reach\n",
      "= straight right left left\n",
      "< straight right left left <EOS>\n",
      "\n",
      "> take a left turn about lab b and head to the end of the hallway and take a right . lab a s entrance is the first door on your right .\n",
      "= left straight left right\n",
      "< left straight left right <EOS>\n",
      "\n",
      "> go straight take the first left after lab b and the next right\n",
      "= straight left right\n",
      "< straight left right <EOS>\n",
      "\n",
      "> get out of lab b and take a left then take the first left and continue straight till the end of the corridor and take a right . lab a should be right there .\n",
      "= left straight left right\n",
      "< left straight left right <EOS>\n",
      "\n",
      "> take a left after the kitchen and go to the end of the corridor . turn right and the washroom will be at the end\n",
      "= straight right straight left\n",
      "< straight right straight left <EOS>\n",
      "\n",
      "> turn left and go straight . turn right at the end of library . turn left at the end of stationary . go straight and lab a is on the left .\n",
      "= left right left straight\n",
      "< left right left straight <EOS>\n",
      "\n",
      "> turn left and go straight . turn right at the end of library . turn left at the end of stationary . go straight and lab a is on the left .\n",
      "= left right left straight\n",
      "< left right left straight <EOS>\n",
      "\n",
      "> take first right and take first left the second room to your left is lab a\n",
      "= right right left straight\n",
      "< right right left straight <EOS>\n",
      "\n",
      "> turn right and go straight . turn right at the end of lab b . turn left at the end of hallway . kitchen on the left .\n",
      "= right straight right left\n",
      "< right straight right left <EOS>\n",
      "\n",
      "> take first right and take first left the second room to your left is lab a\n",
      "= right right left straight\n",
      "< right right left straight <EOS>\n",
      "\n",
      "> turn left and take the first right . walk towards the end of the corridor and turn left .\n",
      "= left right straight left\n",
      "< left right straight left <EOS>\n",
      "\n",
      "> rotate degrees in clockwise direction and go straight . take the second right and reach the end of the hall . take a right and stop near the door for lab a .\n",
      "= right straight left right\n",
      "< right straight left right <EOS>\n",
      "\n",
      "> take the third left and go to the end of the corridor .take right and stop in front of washroom .\n",
      "= straight right left left\n",
      "< straight right left left <EOS>\n",
      "\n"
     ]
    }
   ],
   "source": [
    "evaluateRandomly(encoder1, attn_decoder1)"
   ]
  },
  {
   "cell_type": "code",
   "execution_count": 36,
   "metadata": {},
   "outputs": [
    {
     "name": "stdout",
     "output_type": "stream",
     "text": [
      "> turn left and then walk forward and take the left turn\n",
      "= left straight left\n",
      "< left straight right <EOS>\n",
      "\n"
     ]
    }
   ],
   "source": [
    "print('>', 'turn left and then walk forward and take the left turn')\n",
    "print('=','left straight left')\n",
    "output_words, attentions = evaluate(encoder1,attn_decoder1, 'turn left and then walk forward and take the left turn')\n",
    "output_sentence = ' '.join(output_words)\n",
    "print('<', output_sentence)\n",
    "print('')"
   ]
  },
  {
   "cell_type": "code",
   "execution_count": 39,
   "metadata": {},
   "outputs": [
    {
     "data": {
      "text/plain": [
       "tensor([[27],\n",
       "        [28],\n",
       "        [ 4],\n",
       "        [ 8],\n",
       "        [ 3],\n",
       "        [11],\n",
       "        [ 1]])"
      ]
     },
     "execution_count": 39,
     "metadata": {},
     "output_type": "execute_result"
    }
   ],
   "source": [
    "tensorFromSentence(input_lang, 'go straight and take left .')"
   ]
  },
  {
   "cell_type": "code",
   "execution_count": 41,
   "metadata": {},
   "outputs": [
    {
     "name": "stdout",
     "output_type": "stream",
     "text": [
      "> go straight and take left .\n",
      "= left\n",
      "< straight left left straight <EOS>\n",
      "\n"
     ]
    }
   ],
   "source": [
    "print('>', 'go straight and take left .')\n",
    "print('=','left')\n",
    "output_words, attentions = evaluate(encoder1,attn_decoder1, 'go straight and take left .')\n",
    "output_sentence = ' '.join(output_words)\n",
    "print('<', output_sentence)\n",
    "print('')"
   ]
  }
 ],
 "metadata": {
  "colab": {
   "name": "seq2seq_translation_tutorial.ipynb",
   "provenance": []
  },
  "kernelspec": {
   "display_name": "Python 3",
   "language": "python",
   "name": "python3"
  },
  "language_info": {
   "codemirror_mode": {
    "name": "ipython",
    "version": 3
   },
   "file_extension": ".py",
   "mimetype": "text/x-python",
   "name": "python",
   "nbconvert_exporter": "python",
   "pygments_lexer": "ipython3",
   "version": "3.7.6"
  }
 },
 "nbformat": 4,
 "nbformat_minor": 1
}
